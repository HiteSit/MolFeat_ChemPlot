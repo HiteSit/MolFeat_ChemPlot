{
  "cells": [
    {
      "cell_type": "markdown",
      "metadata": {
        "id": "SeT1yjjHHXnv"
      },
      "source": [
        "# **Getting Started with ChemPlot**"
      ]
    },
    {
      "cell_type": "markdown",
      "metadata": {
        "id": "P_7MFyrJHjMZ"
      },
      "source": [
        "<h>**Installation**\n",
        "<p> Currenty to install ChemPlot, first install RDkit (a library for cheminiformatics). Then using pip you can install ChemPlot."
      ]
    },
    {
      "cell_type": "code",
      "execution_count": null,
      "metadata": {
        "id": "if0cElEGZ_77"
      },
      "outputs": [],
      "source": [
        "# Install RDkit\n",
        "!pip install rdkit\n",
        "!pip install chemplot==1.2.0\n",
        "!pip install bokeh==2.4.3"
      ]
    },
    {
      "cell_type": "code",
      "execution_count": 18,
      "metadata": {
        "id": "c2QI0m_jo9l5"
      },
      "outputs": [],
      "source": [
        "from rdkit import RDLogger\n",
        "RDLogger.DisableLog('rdApp.*')"
      ]
    },
    {
      "cell_type": "markdown",
      "metadata": {
        "id": "o2K7G1-oS_sS"
      },
      "source": [
        "<h>**Import the library and the Example Datasets**\n",
        "<p>Let's start by importing ChemPlot and two example datasets to demonstrate its the functionalities. We the following datasets: BBBP (blood-brain barrier penetration) [1] and SAMPL (Hydration free energy)  [2] dataset. The target of the BBBP dataset is discrete while the target for the SAMPL dataset is continuos.\n",
        "\n",
        "---\n",
        "<p>[1] Martins, Ines Filipa, et al. (2012). A Bayesian approach to in silico blood-brain barrier penetration modeling. Journal of chemical information and modeling 52.6, 1686-1697\n",
        "<p>[2] Mobley, David L., and J. Peter Guthrie. \"FreeSolv: a database of experimental and calculated hydration free energies, with input files.\" Journal of computer-aided molecular design 28.7 (2014): 711-720."
      ]
    },
    {
      "cell_type": "code",
      "execution_count": 7,
      "metadata": {
        "id": "unMlCOdUUSJe"
      },
      "outputs": [],
      "source": [
        "from chemplot import load_data, Plotter\n",
        "\n",
        "data_BBBP = load_data(\"BBBP\")\n",
        "data_SAMPL = load_data(\"SAMPL\")"
      ]
    },
    {
      "cell_type": "markdown",
      "metadata": {
        "id": "Rt1z6lpi_ItR"
      },
      "source": [
        "Let's explore the BBBP dataset."
      ]
    },
    {
      "cell_type": "code",
      "execution_count": null,
      "metadata": {
        "colab": {
          "base_uri": "https://localhost:8080/",
          "height": 424
        },
        "id": "rpUbx_lRa3Eh",
        "outputId": "753fbb85-4bd1-4e3a-d961-3c566be59997"
      },
      "outputs": [],
      "source": [
        "data_BBBP"
      ]
    },
    {
      "cell_type": "markdown",
      "metadata": {
        "id": "SERLlU64_iae"
      },
      "source": [
        "Let's explore the SAMPL dataset."
      ]
    },
    {
      "cell_type": "code",
      "execution_count": null,
      "metadata": {
        "colab": {
          "base_uri": "https://localhost:8080/",
          "height": 424
        },
        "id": "8sYNvFztFJQC",
        "outputId": "557f1c58-c72d-4024-87f9-d071973d7e08"
      },
      "outputs": [],
      "source": [
        "data_SAMPL"
      ]
    },
    {
      "cell_type": "markdown",
      "metadata": {
        "id": "oGZuGLooHzMe"
      },
      "source": [
        "<h>**Plotting the Datasets**\n",
        "<p>We can now use the library to create some plots. Let's compare the scatter plot for BBBP with the plots describing the distribuition of the chemical space."
      ]
    },
    {
      "cell_type": "markdown",
      "metadata": {
        "id": "Qdcjae2Q_2ur"
      },
      "source": [
        "Create a Plotter object"
      ]
    },
    {
      "cell_type": "code",
      "execution_count": null,
      "metadata": {
        "colab": {
          "base_uri": "https://localhost:8080/"
        },
        "id": "t8rweXtZ_6JQ",
        "outputId": "1ca7b3ab-3f9b-4e7f-8875-ab015b3e7994"
      },
      "outputs": [],
      "source": [
        "cp_BBBP = Plotter.from_smiles(data_BBBP[\"smiles\"], target=data_BBBP[\"target\"], target_type=\"C\")"
      ]
    },
    {
      "cell_type": "markdown",
      "metadata": {
        "id": "-wU6HcjjQ9wj"
      },
      "source": [
        "Reduce the dimensions of the molecular descriptors"
      ]
    },
    {
      "cell_type": "code",
      "execution_count": null,
      "metadata": {
        "colab": {
          "base_uri": "https://localhost:8080/",
          "height": 424
        },
        "id": "TAJMldzWQ718",
        "outputId": "e843d830-fcde-477d-b23a-9a6195053d13"
      },
      "outputs": [],
      "source": [
        "cp_BBBP.tsne(random_state=0)"
      ]
    },
    {
      "cell_type": "markdown",
      "metadata": {
        "id": "XM7n_JkS_9eO"
      },
      "source": [
        "Compare \"scatter\", \"hex\" and \"kde\" plots"
      ]
    },
    {
      "cell_type": "code",
      "execution_count": null,
      "metadata": {
        "colab": {
          "base_uri": "https://localhost:8080/",
          "height": 1000
        },
        "id": "RRWhrHdfGHY9",
        "outputId": "cdbdda35-5ca4-4087-a5b2-7d4091a647f9"
      },
      "outputs": [],
      "source": [
        "cp_BBBP.visualize_plot(kind=\"scatter\", size=8)\n",
        "cp_BBBP.visualize_plot(kind=\"hex\", size=8)\n",
        "cp_BBBP.visualize_plot(kind=\"kde\", size=8);"
      ]
    },
    {
      "cell_type": "markdown",
      "metadata": {
        "id": "lJe3evlMrDoh"
      },
      "source": [
        "<h>**Clustering**\n",
        "<p>It is also possible to cluster data before plotting. You can control number of cluster with the parameter *n_clusters* default value is 5"
      ]
    },
    {
      "cell_type": "code",
      "execution_count": null,
      "metadata": {
        "colab": {
          "base_uri": "https://localhost:8080/",
          "height": 774
        },
        "id": "ZP6jYqFrqwok",
        "outputId": "b26f9d77-c8b6-4fc1-e8f3-ea2edf11f4b1"
      },
      "outputs": [],
      "source": [
        "cp_BBBP.cluster(n_clusters=6)\n",
        "cp_BBBP.visualize_plot(size=8,clusters=True)"
      ]
    },
    {
      "cell_type": "markdown",
      "metadata": {
        "id": "RHf4iiARAEQ-"
      },
      "source": [
        "Let's now do the same for a dataset with a continuos target like SAMPL. Create a Plotter object"
      ]
    },
    {
      "cell_type": "code",
      "execution_count": null,
      "metadata": {
        "colab": {
          "base_uri": "https://localhost:8080/"
        },
        "id": "cOSYiGnaGx92",
        "outputId": "f99de0a6-04af-4f9e-eeee-e2bca6babf26"
      },
      "outputs": [],
      "source": [
        "cp_SAMPL = Plotter.from_smiles(data_SAMPL[\"smiles\"], target=data_SAMPL[\"target\"], target_type=\"R\")"
      ]
    },
    {
      "cell_type": "markdown",
      "metadata": {
        "id": "naZwxl4DRysQ"
      },
      "source": [
        "Reduce the dimensions of the molecular descriptors"
      ]
    },
    {
      "cell_type": "code",
      "execution_count": 10,
      "metadata": {
        "id": "MIzDbtRNRzcJ"
      },
      "outputs": [],
      "source": [
        "cp_SAMPL.tsne(random_state=0);"
      ]
    },
    {
      "cell_type": "markdown",
      "metadata": {
        "id": "ma4fsWg2AYTn"
      },
      "source": [
        "Scatter Plot for SAMPL dataset."
      ]
    },
    {
      "cell_type": "code",
      "execution_count": null,
      "metadata": {
        "colab": {
          "base_uri": "https://localhost:8080/",
          "height": 702
        },
        "id": "10iz-GPpAacy",
        "outputId": "512142ac-8b8e-4332-dabd-6367ccfcca83"
      },
      "outputs": [],
      "source": [
        "cp_SAMPL.visualize_plot(size=8, colorbar=True);"
      ]
    },
    {
      "cell_type": "markdown",
      "metadata": {
        "id": "13c2jsJkIK-T"
      },
      "source": [
        "<h>**Comparing the dimensionality reduction methods**\n",
        "<p>We will try know to see how different are the plots generated by PCA, t-SNE and UMAP."
      ]
    },
    {
      "cell_type": "markdown",
      "metadata": {
        "id": "_Gx7INgiAxjZ"
      },
      "source": [
        "Inspect BBBP and compare \"PCA\", \"t-SNE\" and \"UMAP\" plots."
      ]
    },
    {
      "cell_type": "code",
      "execution_count": null,
      "metadata": {
        "colab": {
          "base_uri": "https://localhost:8080/",
          "height": 1000
        },
        "id": "7EwCMpFJHSzi",
        "outputId": "a53db7a8-1558-4d8d-d362-9dfb161a33ad"
      },
      "outputs": [],
      "source": [
        "cp_BBBP.pca()\n",
        "cp_BBBP.visualize_plot(size=8);\n",
        "cp_BBBP.tsne()\n",
        "cp_BBBP.visualize_plot(size=8);\n",
        "cp_BBBP.umap()\n",
        "cp_BBBP.visualize_plot(size=8);"
      ]
    },
    {
      "cell_type": "markdown",
      "metadata": {
        "id": "Q1sxXD-BJWIO"
      },
      "source": [
        "**t-SNE perplexity value**\n",
        "<p>Change the perplexity to obtain plots with smaller or bigger clusters. The adequate value for perplexity is however already chosen automatically by ChemPlot.\n",
        "<p>To see that first let's plot the BBBP data with t-SNE using different values for perplexity."
      ]
    },
    {
      "cell_type": "code",
      "execution_count": null,
      "metadata": {
        "colab": {
          "base_uri": "https://localhost:8080/",
          "height": 1000
        },
        "id": "hqJaoxIbJVkA",
        "outputId": "b5796515-efbf-4742-e373-feb721f5802c"
      },
      "outputs": [],
      "source": [
        "#Perplexity produces robust results with values between 5 and 50\n",
        "cp_BBBP.tsne(perplexity=5, random_state=0)\n",
        "cp_BBBP.visualize_plot(size=8);\n",
        "cp_BBBP.tsne(perplexity=15, random_state=0)\n",
        "cp_BBBP.visualize_plot(size=8);\n",
        "cp_BBBP.tsne(perplexity=30, random_state=0)\n",
        "cp_BBBP.visualize_plot(size=8);\n",
        "cp_BBBP.tsne(perplexity=50, random_state=0)\n",
        "cp_BBBP.visualize_plot(size=8);"
      ]
    },
    {
      "cell_type": "markdown",
      "metadata": {
        "id": "GqrAG-l441sd"
      },
      "source": [
        "<p>Let's know plot the BBBP dataset leaving to ChemPlot the choice for the perplexity value."
      ]
    },
    {
      "cell_type": "code",
      "execution_count": null,
      "metadata": {
        "colab": {
          "base_uri": "https://localhost:8080/",
          "height": 702
        },
        "id": "o8HyJ2Au5BpI",
        "outputId": "7021899c-64bf-4f58-8100-148e9ed71421"
      },
      "outputs": [],
      "source": [
        "cp_BBBP.tsne(random_state=0)\n",
        "cp_BBBP.visualize_plot(size=8);"
      ]
    },
    {
      "cell_type": "markdown",
      "metadata": {
        "id": "K5c0mP-xMHVC"
      },
      "source": [
        "<h>**UMAP n_neighbors value**\n",
        "<p>Similarly UMAP takes a n_neighbors to decide which molecules need to be cliustered together. However also here ChemPlot automatically selects a suitable number given the size of your dataset."
      ]
    },
    {
      "cell_type": "markdown",
      "metadata": {
        "id": "HqMJWVwb7O9e"
      },
      "source": [
        "<h>**Structural Similarity (Disabled)**\n",
        "<p>What if you do not have a target proprety? You can still use ChemPlot by creating a structural similarity based Plotter object.\n",
        "<p>To demonstrate this we can now create a plot with the BBBP dataset using structural similarity."
      ]
    },
    {
      "cell_type": "code",
      "execution_count": 25,
      "metadata": {
        "id": "bKg1SZ1d8lXc"
      },
      "outputs": [],
      "source": [
        "cp_BBBP_structural = Plotter.from_smiles(data_BBBP[\"smiles\"], target=data_BBBP[\"target\"], target_type=\"C\", sim_type=\"structural\")"
      ]
    },
    {
      "cell_type": "markdown",
      "metadata": {
        "id": "atoFHhC8NcSM"
      },
      "source": [
        "<h>**Interactive Plots**\n",
        "<p>We can create interactive plots using ChemPlot. Let's first import make sure the plots will be displayed within the notebook."
      ]
    },
    {
      "cell_type": "code",
      "execution_count": 24,
      "metadata": {
        "id": "PHuN0xlvVTFI"
      },
      "outputs": [],
      "source": [
        "from bokeh.io import output_notebook\n",
        "# Call once to configure Bokeh to display plots inline in the notebook.\n",
        "output_notebook()"
      ]
    },
    {
      "cell_type": "markdown",
      "metadata": {
        "id": "w1ERfrFO-YU0"
      },
      "source": [
        "We can now use *interactive_plot()* rather than *visualize_plot()* to generate an interactive plot for SAMPL. Use the tools in the right to explore the plot. You can select a group of molecules, zoom or visualize the molecular structure in 2D."
      ]
    },
    {
      "cell_type": "code",
      "execution_count": null,
      "metadata": {
        "colab": {
          "base_uri": "https://localhost:8080/",
          "height": 717
        },
        "id": "rxjZClbf9Hvn",
        "outputId": "628a163c-6e0d-4a70-f6cd-316076cf0ffc"
      },
      "outputs": [],
      "source": [
        "# cp_SAMPL.tsne(random_state=0)\n",
        "cp_BBBP.interactive_plot(show_plot=True);"
      ]
    }
  ],
  "metadata": {
    "colab": {
      "provenance": []
    },
    "kernelspec": {
      "display_name": "Python 3",
      "language": "python",
      "name": "python3"
    },
    "language_info": {
      "codemirror_mode": {
        "name": "ipython",
        "version": 3
      },
      "file_extension": ".py",
      "mimetype": "text/x-python",
      "name": "python",
      "nbconvert_exporter": "python",
      "pygments_lexer": "ipython3",
      "version": "3.11.8"
    }
  },
  "nbformat": 4,
  "nbformat_minor": 0
}
