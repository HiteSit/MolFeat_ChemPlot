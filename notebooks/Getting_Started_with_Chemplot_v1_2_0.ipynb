{
  "cells": [
    {
      "cell_type": "markdown",
      "metadata": {
        "id": "SeT1yjjHHXnv"
      },
      "source": [
        "# **Getting Started with ChemPlot**"
      ]
    },
    {
      "cell_type": "markdown",
      "metadata": {
        "id": "P_7MFyrJHjMZ"
      },
      "source": [
        "<h>**Installation**\n",
        "<p> Currenty to install ChemPlot, first install RDkit (a library for cheminiformatics). Then using pip you can install ChemPlot."
      ]
    },
    {
      "cell_type": "code",
      "execution_count": null,
      "metadata": {
        "id": "if0cElEGZ_77"
      },
      "outputs": [],
      "source": [
        "# Install RDkit\n",
        "!pip install rdkit\n",
        "!pip install chemplot==1.2.0\n",
        "!pip install bokeh==2.4.3"
      ]
    },
    {
      "cell_type": "code",
      "execution_count": 18,
      "metadata": {
        "id": "c2QI0m_jo9l5"
      },
      "outputs": [],
      "source": [
        "from rdkit import RDLogger\n",
        "RDLogger.DisableLog('rdApp.*')"
      ]
    },
    {
      "cell_type": "markdown",
      "metadata": {
        "id": "o2K7G1-oS_sS"
      },
      "source": [
        "<h>**Import the library and the Example Datasets**\n",
        "<p>Let's start by importing ChemPlot and two example datasets to demonstrate its the functionalities. We the following datasets: BBBP (blood-brain barrier penetration) [1] and SAMPL (Hydration free energy)  [2] dataset. The target of the BBBP dataset is discrete while the target for the SAMPL dataset is continuos.\n",
        "\n",
        "---\n",
        "<p>[1] Martins, Ines Filipa, et al. (2012). A Bayesian approach to in silico blood-brain barrier penetration modeling. Journal of chemical information and modeling 52.6, 1686-1697\n",
        "<p>[2] Mobley, David L., and J. Peter Guthrie. \"FreeSolv: a database of experimental and calculated hydration free energies, with input files.\" Journal of computer-aided molecular design 28.7 (2014): 711-720."
      ]
    },
    {
      "cell_type": "code",
      "execution_count": 7,
      "metadata": {
        "id": "unMlCOdUUSJe"
      },
      "outputs": [],
      "source": [
        "from chemplot import load_data, Plotter\n",
        "\n",
        "data_BBBP = load_data(\"BBBP\")\n",
        "data_SAMPL = load_data(\"SAMPL\")"
      ]
    },
    {
      "cell_type": "markdown",
      "metadata": {
        "id": "Rt1z6lpi_ItR"
      },
      "source": [
        "Let's explore the BBBP dataset."
      ]
    },
    {
      "cell_type": "code",
      "execution_count": 8,
      "metadata": {
        "colab": {
          "base_uri": "https://localhost:8080/",
          "height": 424
        },
        "id": "rpUbx_lRa3Eh",
        "outputId": "753fbb85-4bd1-4e3a-d961-3c566be59997"
      },
      "outputs": [
        {
          "data": {
            "text/html": [
              "<div>\n",
              "<style scoped>\n",
              "    .dataframe tbody tr th:only-of-type {\n",
              "        vertical-align: middle;\n",
              "    }\n",
              "\n",
              "    .dataframe tbody tr th {\n",
              "        vertical-align: top;\n",
              "    }\n",
              "\n",
              "    .dataframe thead th {\n",
              "        text-align: right;\n",
              "    }\n",
              "</style>\n",
              "<table border=\"1\" class=\"dataframe\">\n",
              "  <thead>\n",
              "    <tr style=\"text-align: right;\">\n",
              "      <th></th>\n",
              "      <th>smiles</th>\n",
              "      <th>target</th>\n",
              "    </tr>\n",
              "  </thead>\n",
              "  <tbody>\n",
              "    <tr>\n",
              "      <th>0</th>\n",
              "      <td>[Cl].CC(C)NCC(O)COc1cccc2ccccc12</td>\n",
              "      <td>1</td>\n",
              "    </tr>\n",
              "    <tr>\n",
              "      <th>1</th>\n",
              "      <td>C(=O)(OC(C)(C)C)CCCc1ccc(cc1)N(CCCl)CCCl</td>\n",
              "      <td>1</td>\n",
              "    </tr>\n",
              "    <tr>\n",
              "      <th>2</th>\n",
              "      <td>c12c3c(N4CCN(C)CC4)c(F)cc1c(c(C(O)=O)cn2C(C)CO...</td>\n",
              "      <td>1</td>\n",
              "    </tr>\n",
              "    <tr>\n",
              "      <th>3</th>\n",
              "      <td>C1CCN(CC1)Cc1cccc(c1)OCCCNC(=O)C</td>\n",
              "      <td>1</td>\n",
              "    </tr>\n",
              "    <tr>\n",
              "      <th>4</th>\n",
              "      <td>Cc1onc(c2ccccc2Cl)c1C(=O)N[C@H]3[C@H]4SC(C)(C)...</td>\n",
              "      <td>1</td>\n",
              "    </tr>\n",
              "    <tr>\n",
              "      <th>...</th>\n",
              "      <td>...</td>\n",
              "      <td>...</td>\n",
              "    </tr>\n",
              "    <tr>\n",
              "      <th>2034</th>\n",
              "      <td>C1=C(Cl)C(=C(C2=C1NC(=O)C(N2)=O)[N+](=O)[O-])Cl</td>\n",
              "      <td>1</td>\n",
              "    </tr>\n",
              "    <tr>\n",
              "      <th>2035</th>\n",
              "      <td>[C@H]3([N]2C1=C(C(=NC=N1)N)N=C2)[C@@H]([C@@H](...</td>\n",
              "      <td>1</td>\n",
              "    </tr>\n",
              "    <tr>\n",
              "      <th>2036</th>\n",
              "      <td>[O+]1=N[N](C=C1[N-]C(NC2=CC=CC=C2)=O)C(CC3=CC=...</td>\n",
              "      <td>1</td>\n",
              "    </tr>\n",
              "    <tr>\n",
              "      <th>2037</th>\n",
              "      <td>C1=C(OC)C(=CC2=C1C(=[N+](C(=C2CC)C)[NH-])C3=CC...</td>\n",
              "      <td>1</td>\n",
              "    </tr>\n",
              "    <tr>\n",
              "      <th>2038</th>\n",
              "      <td>[N+](=NCC(=O)N[C@@H]([C@H](O)C1=CC=C([N+]([O-]...</td>\n",
              "      <td>1</td>\n",
              "    </tr>\n",
              "  </tbody>\n",
              "</table>\n",
              "<p>2039 rows × 2 columns</p>\n",
              "</div>"
            ],
            "text/plain": [
              "                                                 smiles  target\n",
              "0                      [Cl].CC(C)NCC(O)COc1cccc2ccccc12       1\n",
              "1              C(=O)(OC(C)(C)C)CCCc1ccc(cc1)N(CCCl)CCCl       1\n",
              "2     c12c3c(N4CCN(C)CC4)c(F)cc1c(c(C(O)=O)cn2C(C)CO...       1\n",
              "3                      C1CCN(CC1)Cc1cccc(c1)OCCCNC(=O)C       1\n",
              "4     Cc1onc(c2ccccc2Cl)c1C(=O)N[C@H]3[C@H]4SC(C)(C)...       1\n",
              "...                                                 ...     ...\n",
              "2034    C1=C(Cl)C(=C(C2=C1NC(=O)C(N2)=O)[N+](=O)[O-])Cl       1\n",
              "2035  [C@H]3([N]2C1=C(C(=NC=N1)N)N=C2)[C@@H]([C@@H](...       1\n",
              "2036  [O+]1=N[N](C=C1[N-]C(NC2=CC=CC=C2)=O)C(CC3=CC=...       1\n",
              "2037  C1=C(OC)C(=CC2=C1C(=[N+](C(=C2CC)C)[NH-])C3=CC...       1\n",
              "2038  [N+](=NCC(=O)N[C@@H]([C@H](O)C1=CC=C([N+]([O-]...       1\n",
              "\n",
              "[2039 rows x 2 columns]"
            ]
          },
          "execution_count": 8,
          "metadata": {},
          "output_type": "execute_result"
        }
      ],
      "source": [
        "data_BBBP"
      ]
    },
    {
      "cell_type": "markdown",
      "metadata": {
        "id": "SERLlU64_iae"
      },
      "source": [
        "Let's explore the SAMPL dataset."
      ]
    },
    {
      "cell_type": "code",
      "execution_count": 9,
      "metadata": {
        "colab": {
          "base_uri": "https://localhost:8080/",
          "height": 424
        },
        "id": "8sYNvFztFJQC",
        "outputId": "557f1c58-c72d-4024-87f9-d071973d7e08"
      },
      "outputs": [
        {
          "data": {
            "text/html": [
              "<div>\n",
              "<style scoped>\n",
              "    .dataframe tbody tr th:only-of-type {\n",
              "        vertical-align: middle;\n",
              "    }\n",
              "\n",
              "    .dataframe tbody tr th {\n",
              "        vertical-align: top;\n",
              "    }\n",
              "\n",
              "    .dataframe thead th {\n",
              "        text-align: right;\n",
              "    }\n",
              "</style>\n",
              "<table border=\"1\" class=\"dataframe\">\n",
              "  <thead>\n",
              "    <tr style=\"text-align: right;\">\n",
              "      <th></th>\n",
              "      <th>smiles</th>\n",
              "      <th>target</th>\n",
              "    </tr>\n",
              "  </thead>\n",
              "  <tbody>\n",
              "    <tr>\n",
              "      <th>0</th>\n",
              "      <td>CN(C)C(=O)c1ccc(cc1)OC</td>\n",
              "      <td>-11.01</td>\n",
              "    </tr>\n",
              "    <tr>\n",
              "      <th>1</th>\n",
              "      <td>CS(=O)(=O)Cl</td>\n",
              "      <td>-4.87</td>\n",
              "    </tr>\n",
              "    <tr>\n",
              "      <th>2</th>\n",
              "      <td>CC(C)C=C</td>\n",
              "      <td>1.83</td>\n",
              "    </tr>\n",
              "    <tr>\n",
              "      <th>3</th>\n",
              "      <td>CCc1cnccn1</td>\n",
              "      <td>-5.45</td>\n",
              "    </tr>\n",
              "    <tr>\n",
              "      <th>4</th>\n",
              "      <td>CCCCCCCO</td>\n",
              "      <td>-4.21</td>\n",
              "    </tr>\n",
              "    <tr>\n",
              "      <th>...</th>\n",
              "      <td>...</td>\n",
              "      <td>...</td>\n",
              "    </tr>\n",
              "    <tr>\n",
              "      <th>637</th>\n",
              "      <td>CCCCCCCC(=O)OC</td>\n",
              "      <td>-2.04</td>\n",
              "    </tr>\n",
              "    <tr>\n",
              "      <th>638</th>\n",
              "      <td>C1CCNC1</td>\n",
              "      <td>-5.48</td>\n",
              "    </tr>\n",
              "    <tr>\n",
              "      <th>639</th>\n",
              "      <td>c1cc(ccc1C=O)O</td>\n",
              "      <td>-8.83</td>\n",
              "    </tr>\n",
              "    <tr>\n",
              "      <th>640</th>\n",
              "      <td>CCCCCCCCl</td>\n",
              "      <td>0.29</td>\n",
              "    </tr>\n",
              "    <tr>\n",
              "      <th>641</th>\n",
              "      <td>C1COCCO1</td>\n",
              "      <td>-5.06</td>\n",
              "    </tr>\n",
              "  </tbody>\n",
              "</table>\n",
              "<p>642 rows × 2 columns</p>\n",
              "</div>"
            ],
            "text/plain": [
              "                     smiles  target\n",
              "0    CN(C)C(=O)c1ccc(cc1)OC  -11.01\n",
              "1              CS(=O)(=O)Cl   -4.87\n",
              "2                  CC(C)C=C    1.83\n",
              "3                CCc1cnccn1   -5.45\n",
              "4                  CCCCCCCO   -4.21\n",
              "..                      ...     ...\n",
              "637          CCCCCCCC(=O)OC   -2.04\n",
              "638                 C1CCNC1   -5.48\n",
              "639          c1cc(ccc1C=O)O   -8.83\n",
              "640               CCCCCCCCl    0.29\n",
              "641                C1COCCO1   -5.06\n",
              "\n",
              "[642 rows x 2 columns]"
            ]
          },
          "execution_count": 9,
          "metadata": {},
          "output_type": "execute_result"
        }
      ],
      "source": [
        "data_SAMPL"
      ]
    },
    {
      "cell_type": "markdown",
      "metadata": {
        "id": "oGZuGLooHzMe"
      },
      "source": [
        "<h>**Plotting the Datasets**\n",
        "<p>We can now use the library to create some plots. Let's compare the scatter plot for BBBP with the plots describing the distribuition of the chemical space."
      ]
    },
    {
      "cell_type": "markdown",
      "metadata": {
        "id": "Qdcjae2Q_2ur"
      },
      "source": [
        "Create a Plotter object"
      ]
    },
    {
      "cell_type": "code",
      "execution_count": 10,
      "metadata": {
        "colab": {
          "base_uri": "https://localhost:8080/"
        },
        "id": "t8rweXtZ_6JQ",
        "outputId": "1ca7b3ab-3f9b-4e7f-8875-ab015b3e7994"
      },
      "outputs": [
        {
          "ename": "ValueError",
          "evalue": "The truth value of a Series is ambiguous. Use a.empty, a.bool(), a.item(), a.any() or a.all().",
          "output_type": "error",
          "traceback": [
            "\u001b[0;31m---------------------------------------------------------------------------\u001b[0m",
            "\u001b[0;31mValueError\u001b[0m                                Traceback (most recent call last)",
            "\u001b[0;32m/tmp/ipykernel_8205/1724091370.py\u001b[0m in \u001b[0;36m?\u001b[0;34m()\u001b[0m\n\u001b[0;32m----> 1\u001b[0;31m \u001b[0mcp_BBBP\u001b[0m \u001b[0;34m=\u001b[0m \u001b[0mPlotter\u001b[0m\u001b[0;34m.\u001b[0m\u001b[0mfrom_smiles\u001b[0m\u001b[0;34m(\u001b[0m\u001b[0mdata_BBBP\u001b[0m\u001b[0;34m[\u001b[0m\u001b[0;34m\"smiles\"\u001b[0m\u001b[0;34m]\u001b[0m\u001b[0;34m,\u001b[0m \u001b[0mtarget\u001b[0m\u001b[0;34m=\u001b[0m\u001b[0mdata_BBBP\u001b[0m\u001b[0;34m[\u001b[0m\u001b[0;34m\"target\"\u001b[0m\u001b[0;34m]\u001b[0m\u001b[0;34m,\u001b[0m \u001b[0mtarget_type\u001b[0m\u001b[0;34m=\u001b[0m\u001b[0;34m\"C\"\u001b[0m\u001b[0;34m)\u001b[0m\u001b[0;34m\u001b[0m\u001b[0;34m\u001b[0m\u001b[0m\n\u001b[0m",
            "\u001b[0;32m~/Documents/FORK/MolFeat_ChemPlot/chemplot/chemplot.py\u001b[0m in \u001b[0;36m?\u001b[0;34m(cls, smiles_list, target, target_type, sim_type, fp_type, feature_selection)\u001b[0m\n\u001b[1;32m    182\u001b[0m             \u001b[0;32mif\u001b[0m \u001b[0mlen\u001b[0m\u001b[0;34m(\u001b[0m\u001b[0mtarget\u001b[0m\u001b[0;34m)\u001b[0m \u001b[0;34m!=\u001b[0m \u001b[0mlen\u001b[0m\u001b[0;34m(\u001b[0m\u001b[0mencoding_list\u001b[0m\u001b[0;34m)\u001b[0m\u001b[0;34m:\u001b[0m\u001b[0;34m\u001b[0m\u001b[0;34m\u001b[0m\u001b[0m\n\u001b[1;32m    183\u001b[0m                 \u001b[0;32mraise\u001b[0m \u001b[0mException\u001b[0m\u001b[0;34m(\u001b[0m\u001b[0;34m\"If target is provided its length must match the instances of molecules\"\u001b[0m\u001b[0;34m)\u001b[0m\u001b[0;34m\u001b[0m\u001b[0;34m\u001b[0m\u001b[0m\n\u001b[1;32m    184\u001b[0m \u001b[0;34m\u001b[0m\u001b[0m\n\u001b[1;32m    185\u001b[0m         \u001b[0;32mif\u001b[0m \u001b[0mlen\u001b[0m\u001b[0;34m(\u001b[0m\u001b[0mtarget\u001b[0m\u001b[0;34m)\u001b[0m \u001b[0;34m>\u001b[0m \u001b[0;36m0\u001b[0m\u001b[0;34m:\u001b[0m\u001b[0;34m\u001b[0m\u001b[0;34m\u001b[0m\u001b[0m\n\u001b[0;32m--> 186\u001b[0;31m             \u001b[0mdf_target\u001b[0m \u001b[0;34m=\u001b[0m \u001b[0mpd\u001b[0m\u001b[0;34m.\u001b[0m\u001b[0mDataFrame\u001b[0m\u001b[0;34m(\u001b[0m\u001b[0mdata\u001b[0m\u001b[0;34m=\u001b[0m\u001b[0mtarget\u001b[0m\u001b[0;34m)\u001b[0m\u001b[0;34m\u001b[0m\u001b[0;34m\u001b[0m\u001b[0m\n\u001b[0m\u001b[1;32m    187\u001b[0m             \u001b[0munique_targets_ratio\u001b[0m \u001b[0;34m=\u001b[0m \u001b[0;36m1.0\u001b[0m \u001b[0;34m*\u001b[0m \u001b[0mdf_target\u001b[0m\u001b[0;34m.\u001b[0m\u001b[0miloc\u001b[0m\u001b[0;34m[\u001b[0m\u001b[0;34m:\u001b[0m\u001b[0;34m,\u001b[0m \u001b[0;36m0\u001b[0m\u001b[0;34m]\u001b[0m\u001b[0;34m.\u001b[0m\u001b[0mnunique\u001b[0m\u001b[0;34m(\u001b[0m\u001b[0;34m)\u001b[0m \u001b[0;34m/\u001b[0m \u001b[0mdf_target\u001b[0m\u001b[0;34m.\u001b[0m\u001b[0miloc\u001b[0m\u001b[0;34m[\u001b[0m\u001b[0;34m:\u001b[0m\u001b[0;34m,\u001b[0m \u001b[0;36m0\u001b[0m\u001b[0;34m]\u001b[0m\u001b[0;34m.\u001b[0m\u001b[0mcount\u001b[0m\u001b[0;34m(\u001b[0m\u001b[0;34m)\u001b[0m \u001b[0;34m<\u001b[0m \u001b[0;36m0.05\u001b[0m\u001b[0;34m\u001b[0m\u001b[0;34m\u001b[0m\u001b[0m\n\u001b[1;32m    188\u001b[0m             \u001b[0mnumeric_target\u001b[0m \u001b[0;34m=\u001b[0m \u001b[0mis_numeric_dtype\u001b[0m\u001b[0;34m(\u001b[0m\u001b[0mdf_target\u001b[0m\u001b[0;34m.\u001b[0m\u001b[0mdtypes\u001b[0m\u001b[0;34m.\u001b[0m\u001b[0miloc\u001b[0m\u001b[0;34m[\u001b[0m\u001b[0;36m0\u001b[0m\u001b[0;34m]\u001b[0m\u001b[0;34m)\u001b[0m\u001b[0;34m\u001b[0m\u001b[0;34m\u001b[0m\u001b[0m\n\u001b[1;32m    189\u001b[0m             \u001b[0;32mif\u001b[0m \u001b[0mtarget_type\u001b[0m \u001b[0;34m==\u001b[0m \u001b[0;34m\"R\"\u001b[0m \u001b[0;32mand\u001b[0m \u001b[0;34m(\u001b[0m\u001b[0munique_targets_ratio\u001b[0m \u001b[0;32mor\u001b[0m \u001b[0;32mnot\u001b[0m \u001b[0mnumeric_target\u001b[0m\u001b[0;34m)\u001b[0m\u001b[0;34m:\u001b[0m\u001b[0;34m\u001b[0m\u001b[0;34m\u001b[0m\u001b[0m\n",
            "\u001b[0;32m~/Documents/FORK/MolFeat_ChemPlot/chemplot/chemplot.py\u001b[0m in \u001b[0;36m?\u001b[0;34m(self, encoding_list, target, target_type, sim_type, get_desc, get_fingerprints, fp_type, feature_selection)\u001b[0m\n\u001b[1;32m    140\u001b[0m                 \u001b[0mself\u001b[0m\u001b[0;34m.\u001b[0m\u001b[0m__sim_type\u001b[0m \u001b[0;34m=\u001b[0m \u001b[0;34m\"structural\"\u001b[0m\u001b[0;34m\u001b[0m\u001b[0;34m\u001b[0m\u001b[0m\n\u001b[1;32m    141\u001b[0m                 \u001b[0mprint\u001b[0m\u001b[0;34m(\u001b[0m\u001b[0;34m\"Only one class found in the targets\"\u001b[0m\u001b[0;34m)\u001b[0m\u001b[0;34m\u001b[0m\u001b[0;34m\u001b[0m\u001b[0m\n\u001b[1;32m    142\u001b[0m \u001b[0;34m\u001b[0m\u001b[0m\n\u001b[1;32m    143\u001b[0m         \u001b[0;31m# Instantiate Plotter class\u001b[0m\u001b[0;34m\u001b[0m\u001b[0;34m\u001b[0m\u001b[0m\n\u001b[0;32m--> 144\u001b[0;31m         \u001b[0;32mif\u001b[0m \u001b[0mself\u001b[0m\u001b[0;34m.\u001b[0m\u001b[0m__sim_type\u001b[0m \u001b[0;34m==\u001b[0m \u001b[0;34m\"tailored\"\u001b[0m\u001b[0;34m:\u001b[0m\u001b[0;34m\u001b[0m\u001b[0;34m\u001b[0m\u001b[0m\n\u001b[0m\u001b[1;32m    145\u001b[0m             \u001b[0mself\u001b[0m\u001b[0;34m.\u001b[0m\u001b[0m__mols\u001b[0m\u001b[0;34m,\u001b[0m \u001b[0mdf_descriptors\u001b[0m\u001b[0;34m,\u001b[0m \u001b[0mtarget\u001b[0m \u001b[0;34m=\u001b[0m \u001b[0mget_desc\u001b[0m\u001b[0;34m(\u001b[0m\u001b[0mencoding_list\u001b[0m\u001b[0;34m,\u001b[0m \u001b[0mtarget\u001b[0m\u001b[0;34m)\u001b[0m\u001b[0;34m\u001b[0m\u001b[0;34m\u001b[0m\u001b[0m\n\u001b[1;32m    146\u001b[0m             \u001b[0;32mif\u001b[0m \u001b[0mdf_descriptors\u001b[0m\u001b[0;34m.\u001b[0m\u001b[0mempty\u001b[0m\u001b[0;34m:\u001b[0m\u001b[0;34m\u001b[0m\u001b[0;34m\u001b[0m\u001b[0m\n\u001b[1;32m    147\u001b[0m                 \u001b[0;32mraise\u001b[0m \u001b[0mException\u001b[0m\u001b[0;34m(\u001b[0m\u001b[0;34m\"Descriptors could not be computed for given molecules\"\u001b[0m\u001b[0;34m)\u001b[0m\u001b[0;34m\u001b[0m\u001b[0;34m\u001b[0m\u001b[0m\n",
            "\u001b[0;32m~/Documents/FORK/MolFeat_ChemPlot/chemplot/descriptors.py\u001b[0m in \u001b[0;36m?\u001b[0;34m(smiles_list, target_list, **kwargs)\u001b[0m\n\u001b[1;32m    145\u001b[0m     \u001b[0;32mfor\u001b[0m \u001b[0mdesc_name\u001b[0m \u001b[0;32min\u001b[0m \u001b[0mcalc\u001b[0m\u001b[0;34m.\u001b[0m\u001b[0mdescriptors\u001b[0m\u001b[0;34m:\u001b[0m\u001b[0;34m\u001b[0m\u001b[0;34m\u001b[0m\u001b[0m\n\u001b[1;32m    146\u001b[0m         \u001b[0mname_list\u001b[0m\u001b[0;34m.\u001b[0m\u001b[0mappend\u001b[0m\u001b[0;34m(\u001b[0m\u001b[0mstr\u001b[0m\u001b[0;34m(\u001b[0m\u001b[0mdesc_name\u001b[0m\u001b[0;34m)\u001b[0m\u001b[0;34m)\u001b[0m\u001b[0;34m\u001b[0m\u001b[0;34m\u001b[0m\u001b[0m\n\u001b[1;32m    147\u001b[0m \u001b[0;34m\u001b[0m\u001b[0m\n\u001b[1;32m    148\u001b[0m     \u001b[0mmols\u001b[0m \u001b[0;34m=\u001b[0m \u001b[0;34m[\u001b[0m\u001b[0;34m]\u001b[0m\u001b[0;34m\u001b[0m\u001b[0;34m\u001b[0m\u001b[0m\n\u001b[0;32m--> 149\u001b[0;31m     \u001b[0mdescriptors_list\u001b[0m \u001b[0;34m=\u001b[0m \u001b[0;34m[\u001b[0m\u001b[0;34m]\u001b[0m\u001b[0;34m\u001b[0m\u001b[0;34m\u001b[0m\u001b[0m\n\u001b[0m\u001b[1;32m    150\u001b[0m     \u001b[0merroneous_encodings\u001b[0m \u001b[0;34m=\u001b[0m \u001b[0;34m[\u001b[0m\u001b[0;34m]\u001b[0m\u001b[0;34m\u001b[0m\u001b[0;34m\u001b[0m\u001b[0m\n\u001b[1;32m    151\u001b[0m     \u001b[0mencodings_none_descriptors\u001b[0m \u001b[0;34m=\u001b[0m \u001b[0;34m[\u001b[0m\u001b[0;34m]\u001b[0m\u001b[0;34m\u001b[0m\u001b[0;34m\u001b[0m\u001b[0m\n\u001b[1;32m    152\u001b[0m     \u001b[0;32mfor\u001b[0m \u001b[0mencoding\u001b[0m \u001b[0;32min\u001b[0m \u001b[0mencoding_list\u001b[0m\u001b[0;34m:\u001b[0m\u001b[0;34m\u001b[0m\u001b[0;34m\u001b[0m\u001b[0m\n",
            "\u001b[0;32m~/mambaforge/envs/cheminf_3_11/lib/python3.11/site-packages/pandas/core/generic.py\u001b[0m in \u001b[0;36m?\u001b[0;34m(self)\u001b[0m\n\u001b[1;32m   1517\u001b[0m     \u001b[0;34m@\u001b[0m\u001b[0mfinal\u001b[0m\u001b[0;34m\u001b[0m\u001b[0;34m\u001b[0m\u001b[0m\n\u001b[1;32m   1518\u001b[0m     \u001b[0;32mdef\u001b[0m \u001b[0m__nonzero__\u001b[0m\u001b[0;34m(\u001b[0m\u001b[0mself\u001b[0m\u001b[0;34m)\u001b[0m \u001b[0;34m->\u001b[0m \u001b[0mNoReturn\u001b[0m\u001b[0;34m:\u001b[0m\u001b[0;34m\u001b[0m\u001b[0;34m\u001b[0m\u001b[0m\n\u001b[0;32m-> 1519\u001b[0;31m         raise ValueError(\n\u001b[0m\u001b[1;32m   1520\u001b[0m             \u001b[0;34mf\"The truth value of a {type(self).__name__} is ambiguous. \"\u001b[0m\u001b[0;34m\u001b[0m\u001b[0;34m\u001b[0m\u001b[0m\n\u001b[1;32m   1521\u001b[0m             \u001b[0;34m\"Use a.empty, a.bool(), a.item(), a.any() or a.all().\"\u001b[0m\u001b[0;34m\u001b[0m\u001b[0;34m\u001b[0m\u001b[0m\n\u001b[1;32m   1522\u001b[0m         )\n",
            "\u001b[0;31mValueError\u001b[0m: The truth value of a Series is ambiguous. Use a.empty, a.bool(), a.item(), a.any() or a.all()."
          ]
        }
      ],
      "source": [
        "cp_BBBP = Plotter.from_smiles(data_BBBP[\"smiles\"], target=data_BBBP[\"target\"], target_type=\"C\")"
      ]
    },
    {
      "cell_type": "markdown",
      "metadata": {
        "id": "-wU6HcjjQ9wj"
      },
      "source": [
        "Reduce the dimensions of the molecular descriptors"
      ]
    },
    {
      "cell_type": "code",
      "execution_count": null,
      "metadata": {
        "colab": {
          "base_uri": "https://localhost:8080/",
          "height": 424
        },
        "id": "TAJMldzWQ718",
        "outputId": "e843d830-fcde-477d-b23a-9a6195053d13"
      },
      "outputs": [],
      "source": [
        "cp_BBBP.tsne(random_state=0)"
      ]
    },
    {
      "cell_type": "markdown",
      "metadata": {
        "id": "XM7n_JkS_9eO"
      },
      "source": [
        "Compare \"scatter\", \"hex\" and \"kde\" plots"
      ]
    },
    {
      "cell_type": "code",
      "execution_count": null,
      "metadata": {
        "colab": {
          "base_uri": "https://localhost:8080/",
          "height": 1000
        },
        "id": "RRWhrHdfGHY9",
        "outputId": "cdbdda35-5ca4-4087-a5b2-7d4091a647f9"
      },
      "outputs": [],
      "source": [
        "cp_BBBP.visualize_plot(kind=\"scatter\", size=8)\n",
        "cp_BBBP.visualize_plot(kind=\"hex\", size=8)\n",
        "cp_BBBP.visualize_plot(kind=\"kde\", size=8);"
      ]
    },
    {
      "cell_type": "markdown",
      "metadata": {
        "id": "lJe3evlMrDoh"
      },
      "source": [
        "<h>**Clustering**\n",
        "<p>It is also possible to cluster data before plotting. You can control number of cluster with the parameter *n_clusters* default value is 5"
      ]
    },
    {
      "cell_type": "code",
      "execution_count": null,
      "metadata": {
        "colab": {
          "base_uri": "https://localhost:8080/",
          "height": 774
        },
        "id": "ZP6jYqFrqwok",
        "outputId": "b26f9d77-c8b6-4fc1-e8f3-ea2edf11f4b1"
      },
      "outputs": [],
      "source": [
        "cp_BBBP.cluster(n_clusters=6)\n",
        "cp_BBBP.visualize_plot(size=8,clusters=True)"
      ]
    },
    {
      "cell_type": "markdown",
      "metadata": {
        "id": "RHf4iiARAEQ-"
      },
      "source": [
        "Let's now do the same for a dataset with a continuos target like SAMPL. Create a Plotter object"
      ]
    },
    {
      "cell_type": "code",
      "execution_count": null,
      "metadata": {
        "colab": {
          "base_uri": "https://localhost:8080/"
        },
        "id": "cOSYiGnaGx92",
        "outputId": "f99de0a6-04af-4f9e-eeee-e2bca6babf26"
      },
      "outputs": [],
      "source": [
        "cp_SAMPL = Plotter.from_smiles(data_SAMPL[\"smiles\"], target=data_SAMPL[\"target\"], target_type=\"R\")"
      ]
    },
    {
      "cell_type": "markdown",
      "metadata": {
        "id": "naZwxl4DRysQ"
      },
      "source": [
        "Reduce the dimensions of the molecular descriptors"
      ]
    },
    {
      "cell_type": "code",
      "execution_count": 10,
      "metadata": {
        "id": "MIzDbtRNRzcJ"
      },
      "outputs": [],
      "source": [
        "cp_SAMPL.tsne(random_state=0);"
      ]
    },
    {
      "cell_type": "markdown",
      "metadata": {
        "id": "ma4fsWg2AYTn"
      },
      "source": [
        "Scatter Plot for SAMPL dataset."
      ]
    },
    {
      "cell_type": "code",
      "execution_count": null,
      "metadata": {
        "colab": {
          "base_uri": "https://localhost:8080/",
          "height": 702
        },
        "id": "10iz-GPpAacy",
        "outputId": "512142ac-8b8e-4332-dabd-6367ccfcca83"
      },
      "outputs": [],
      "source": [
        "cp_SAMPL.visualize_plot(size=8, colorbar=True);"
      ]
    },
    {
      "cell_type": "markdown",
      "metadata": {
        "id": "13c2jsJkIK-T"
      },
      "source": [
        "<h>**Comparing the dimensionality reduction methods**\n",
        "<p>We will try know to see how different are the plots generated by PCA, t-SNE and UMAP."
      ]
    },
    {
      "cell_type": "markdown",
      "metadata": {
        "id": "_Gx7INgiAxjZ"
      },
      "source": [
        "Inspect BBBP and compare \"PCA\", \"t-SNE\" and \"UMAP\" plots."
      ]
    },
    {
      "cell_type": "code",
      "execution_count": null,
      "metadata": {
        "colab": {
          "base_uri": "https://localhost:8080/",
          "height": 1000
        },
        "id": "7EwCMpFJHSzi",
        "outputId": "a53db7a8-1558-4d8d-d362-9dfb161a33ad"
      },
      "outputs": [],
      "source": [
        "cp_BBBP.pca()\n",
        "cp_BBBP.visualize_plot(size=8);\n",
        "cp_BBBP.tsne()\n",
        "cp_BBBP.visualize_plot(size=8);\n",
        "cp_BBBP.umap()\n",
        "cp_BBBP.visualize_plot(size=8);"
      ]
    },
    {
      "cell_type": "markdown",
      "metadata": {
        "id": "Q1sxXD-BJWIO"
      },
      "source": [
        "**t-SNE perplexity value**\n",
        "<p>Change the perplexity to obtain plots with smaller or bigger clusters. The adequate value for perplexity is however already chosen automatically by ChemPlot.\n",
        "<p>To see that first let's plot the BBBP data with t-SNE using different values for perplexity."
      ]
    },
    {
      "cell_type": "code",
      "execution_count": null,
      "metadata": {
        "colab": {
          "base_uri": "https://localhost:8080/",
          "height": 1000
        },
        "id": "hqJaoxIbJVkA",
        "outputId": "b5796515-efbf-4742-e373-feb721f5802c"
      },
      "outputs": [],
      "source": [
        "#Perplexity produces robust results with values between 5 and 50\n",
        "cp_BBBP.tsne(perplexity=5, random_state=0)\n",
        "cp_BBBP.visualize_plot(size=8);\n",
        "cp_BBBP.tsne(perplexity=15, random_state=0)\n",
        "cp_BBBP.visualize_plot(size=8);\n",
        "cp_BBBP.tsne(perplexity=30, random_state=0)\n",
        "cp_BBBP.visualize_plot(size=8);\n",
        "cp_BBBP.tsne(perplexity=50, random_state=0)\n",
        "cp_BBBP.visualize_plot(size=8);"
      ]
    },
    {
      "cell_type": "markdown",
      "metadata": {
        "id": "GqrAG-l441sd"
      },
      "source": [
        "<p>Let's know plot the BBBP dataset leaving to ChemPlot the choice for the perplexity value."
      ]
    },
    {
      "cell_type": "code",
      "execution_count": null,
      "metadata": {
        "colab": {
          "base_uri": "https://localhost:8080/",
          "height": 702
        },
        "id": "o8HyJ2Au5BpI",
        "outputId": "7021899c-64bf-4f58-8100-148e9ed71421"
      },
      "outputs": [],
      "source": [
        "cp_BBBP.tsne(random_state=0)\n",
        "cp_BBBP.visualize_plot(size=8);"
      ]
    },
    {
      "cell_type": "markdown",
      "metadata": {
        "id": "K5c0mP-xMHVC"
      },
      "source": [
        "<h>**UMAP n_neighbors value**\n",
        "<p>Similarly UMAP takes a n_neighbors to decide which molecules need to be cliustered together. However also here ChemPlot automatically selects a suitable number given the size of your dataset."
      ]
    },
    {
      "cell_type": "markdown",
      "metadata": {
        "id": "HqMJWVwb7O9e"
      },
      "source": [
        "<h>**Structural Similarity (Disabled)**\n",
        "<p>What if you do not have a target proprety? You can still use ChemPlot by creating a structural similarity based Plotter object.\n",
        "<p>To demonstrate this we can now create a plot with the BBBP dataset using structural similarity."
      ]
    },
    {
      "cell_type": "code",
      "execution_count": 25,
      "metadata": {
        "id": "bKg1SZ1d8lXc"
      },
      "outputs": [],
      "source": [
        "cp_BBBP_structural = Plotter.from_smiles(data_BBBP[\"smiles\"], target=data_BBBP[\"target\"], target_type=\"C\", sim_type=\"structural\")"
      ]
    },
    {
      "cell_type": "markdown",
      "metadata": {
        "id": "atoFHhC8NcSM"
      },
      "source": [
        "<h>**Interactive Plots**\n",
        "<p>We can create interactive plots using ChemPlot. Let's first import make sure the plots will be displayed within the notebook."
      ]
    },
    {
      "cell_type": "code",
      "execution_count": 24,
      "metadata": {
        "id": "PHuN0xlvVTFI"
      },
      "outputs": [],
      "source": [
        "from bokeh.io import output_notebook\n",
        "# Call once to configure Bokeh to display plots inline in the notebook.\n",
        "output_notebook()"
      ]
    },
    {
      "cell_type": "markdown",
      "metadata": {
        "id": "w1ERfrFO-YU0"
      },
      "source": [
        "We can now use *interactive_plot()* rather than *visualize_plot()* to generate an interactive plot for SAMPL. Use the tools in the right to explore the plot. You can select a group of molecules, zoom or visualize the molecular structure in 2D."
      ]
    },
    {
      "cell_type": "code",
      "execution_count": null,
      "metadata": {
        "colab": {
          "base_uri": "https://localhost:8080/",
          "height": 717
        },
        "id": "rxjZClbf9Hvn",
        "outputId": "628a163c-6e0d-4a70-f6cd-316076cf0ffc"
      },
      "outputs": [],
      "source": [
        "# cp_SAMPL.tsne(random_state=0)\n",
        "cp_BBBP.interactive_plot(show_plot=True);"
      ]
    }
  ],
  "metadata": {
    "colab": {
      "provenance": []
    },
    "kernelspec": {
      "display_name": "Python 3",
      "language": "python",
      "name": "python3"
    },
    "language_info": {
      "codemirror_mode": {
        "name": "ipython",
        "version": 3
      },
      "file_extension": ".py",
      "mimetype": "text/x-python",
      "name": "python",
      "nbconvert_exporter": "python",
      "pygments_lexer": "ipython3",
      "version": "3.11.8"
    }
  },
  "nbformat": 4,
  "nbformat_minor": 0
}
