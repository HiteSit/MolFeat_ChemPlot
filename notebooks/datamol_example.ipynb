{
 "cells": [
  {
   "cell_type": "code",
   "execution_count": 1,
   "metadata": {},
   "outputs": [
    {
     "name": "stderr",
     "output_type": "stream",
     "text": [
      "2024-12-17 13:16:39.306873: I tensorflow/core/util/port.cc:153] oneDNN custom operations are on. You may see slightly different numerical results due to floating-point round-off errors from different computation orders. To turn them off, set the environment variable `TF_ENABLE_ONEDNN_OPTS=0`.\n",
      "2024-12-17 13:16:39.627132: E external/local_xla/xla/stream_executor/cuda/cuda_fft.cc:485] Unable to register cuFFT factory: Attempting to register factory for plugin cuFFT when one has already been registered\n",
      "2024-12-17 13:16:39.763583: E external/local_xla/xla/stream_executor/cuda/cuda_dnn.cc:8454] Unable to register cuDNN factory: Attempting to register factory for plugin cuDNN when one has already been registered\n",
      "2024-12-17 13:16:39.801627: E external/local_xla/xla/stream_executor/cuda/cuda_blas.cc:1452] Unable to register cuBLAS factory: Attempting to register factory for plugin cuBLAS when one has already been registered\n",
      "2024-12-17 13:16:40.065361: I tensorflow/core/platform/cpu_feature_guard.cc:210] This TensorFlow binary is optimized to use available CPU instructions in performance-critical operations.\n",
      "To enable the following instructions: AVX2 AVX_VNNI FMA, in other operations, rebuild TensorFlow with the appropriate compiler flags.\n",
      "2024-12-17 13:16:41.762475: W tensorflow/compiler/tf2tensorrt/utils/py_utils.cc:38] TF-TRT Warning: Could not find TensorRT\n"
     ]
    }
   ],
   "source": [
    "from chemplot import load_data, Plotter\n",
    "\n",
    "data_BBBP = load_data(\"BBBP\")\n",
    "data_SAMPL = load_data(\"SAMPL\")"
   ]
  },
  {
   "cell_type": "code",
   "execution_count": 4,
   "metadata": {},
   "outputs": [],
   "source": [
    "import datamol as dm\n",
    "from molfeat.calc import FPCalculator\n",
    "from molfeat.trans import MoleculeTransformer\n",
    "from molfeat.store.modelstore import ModelStore\n",
    "\n",
    "import pandas as pd"
   ]
  },
  {
   "cell_type": "code",
   "execution_count": 5,
   "metadata": {},
   "outputs": [],
   "source": [
    "calc = FPCalculator(\"ecfp\")\n",
    "mol_transf = MoleculeTransformer(calc, n_jobs=-1)"
   ]
  },
  {
   "cell_type": "code",
   "execution_count": 6,
   "metadata": {},
   "outputs": [
    {
     "name": "stderr",
     "output_type": "stream",
     "text": [
      "/home/hitesit/mambaforge/envs/cheminf_3_11/lib/python3.11/site-packages/joblib/externals/loky/backend/fork_exec.py:38: RuntimeWarning: os.fork() was called. os.fork() is incompatible with multithreaded code, and JAX is multithreaded, so this will likely lead to a deadlock.\n",
      "  pid = os.fork()\n",
      "[13:16:56] WARNING: not removing hydrogen atom without neighbors\n",
      "[13:16:56] WARNING: not removing hydrogen atom without neighbors\n",
      "[13:16:56] WARNING: not removing hydrogen atom without neighbors\n",
      "[13:16:56] WARNING: not removing hydrogen atom without neighbors\n",
      "[13:16:56] WARNING: not removing hydrogen atom without neighbors\n",
      "[13:16:56] WARNING: not removing hydrogen atom without neighbors\n",
      "[13:16:56] WARNING: not removing hydrogen atom without neighbors\n",
      "[13:16:56] WARNING: not removing hydrogen atom without neighbors\n",
      "[13:16:56] WARNING: not removing hydrogen atom without neighbors\n",
      "[13:16:56] WARNING: not removing hydrogen atom without neighbors\n",
      "[13:16:56] WARNING: not removing hydrogen atom without neighbors\n",
      "[13:16:56] WARNING: not removing hydrogen atom without neighbors\n",
      "[13:16:56] WARNING: not removing hydrogen atom without neighbors\n",
      "[13:16:56] WARNING: not removing hydrogen atom without neighbors\n",
      "[13:16:56] WARNING: not removing hydrogen atom without neighbors\n",
      "[13:16:56] WARNING: not removing hydrogen atom without neighbors\n",
      "[13:16:56] WARNING: not removing hydrogen atom without neighbors\n",
      "[13:16:57] WARNING: not removing hydrogen atom without neighbors\n",
      "[13:16:57] WARNING: not removing hydrogen atom without neighbors\n",
      "[13:16:57] WARNING: not removing hydrogen atom without neighbors\n",
      "[13:16:57] WARNING: not removing hydrogen atom without neighbors\n",
      "[13:16:57] WARNING: not removing hydrogen atom without neighbors\n",
      "[13:16:57] WARNING: not removing hydrogen atom without neighbors\n",
      "[13:16:57] WARNING: not removing hydrogen atom without neighbors\n",
      "[13:16:57] WARNING: not removing hydrogen atom without neighbors\n",
      "[13:16:57] WARNING: not removing hydrogen atom without neighbors\n",
      "[13:16:57] WARNING: not removing hydrogen atom without neighbors\n",
      "[13:16:57] WARNING: not removing hydrogen atom without neighbors\n",
      "[13:16:57] WARNING: not removing hydrogen atom without neighbors\n",
      "[13:16:57] WARNING: not removing hydrogen atom without neighbors\n",
      "[13:16:57] WARNING: not removing hydrogen atom without neighbors\n",
      "[13:16:57] WARNING: not removing hydrogen atom without neighbors\n",
      "[13:16:57] WARNING: not removing hydrogen atom without neighbors\n",
      "[13:16:57] WARNING: not removing hydrogen atom without neighbors\n",
      "[13:16:57] WARNING: not removing hydrogen atom without neighbors\n",
      "[13:16:57] WARNING: not removing hydrogen atom without neighbors\n",
      "[13:16:57] WARNING: not removing hydrogen atom without neighbors\n",
      "[13:16:57] WARNING: not removing hydrogen atom without neighbors\n",
      "[13:16:57] WARNING: not removing hydrogen atom without neighbors\n",
      "[13:16:57] WARNING: not removing hydrogen atom without neighbors\n"
     ]
    }
   ],
   "source": [
    "features = mol_transf(data_BBBP)\n",
    "features_df: pd.Dataframe = pd.DataFrame(features)"
   ]
  },
  {
   "cell_type": "code",
   "execution_count": 8,
   "metadata": {},
   "outputs": [
    {
     "data": {
      "text/plain": [
       "(2039, 2048)"
      ]
     },
     "execution_count": 8,
     "metadata": {},
     "output_type": "execute_result"
    }
   ],
   "source": [
    "features_df.shape"
   ]
  },
  {
   "cell_type": "code",
   "execution_count": null,
   "metadata": {},
   "outputs": [],
   "source": []
  }
 ],
 "metadata": {
  "kernelspec": {
   "display_name": "cheminf_3_11",
   "language": "python",
   "name": "python3"
  },
  "language_info": {
   "codemirror_mode": {
    "name": "ipython",
    "version": 3
   },
   "file_extension": ".py",
   "mimetype": "text/x-python",
   "name": "python",
   "nbconvert_exporter": "python",
   "pygments_lexer": "ipython3",
   "version": "3.11.8"
  }
 },
 "nbformat": 4,
 "nbformat_minor": 2
}
