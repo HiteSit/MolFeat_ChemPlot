{
 "cells": [
  {
   "cell_type": "code",
   "execution_count": 1,
   "metadata": {},
   "outputs": [],
   "source": [
    "import datamol as dm"
   ]
  },
  {
   "cell_type": "code",
   "execution_count": 2,
   "metadata": {},
   "outputs": [],
   "source": [
    "smile_list = ['C=CC(=O)NC(CCCC)C(=O)NCC1=C(F)C=CC=C1Cl',\n",
    " 'C=CC(=O)NC(C(=O)NCC1=C(F)C=CC=C1Cl)C1=CC=C(C(F)(F)F)C=C1',\n",
    " 'C=CC(=O)NC(C(=O)NCC1=CC=CC(OCC2=CC=CC=C2)=C1)C1=CC(C)=CC=C1',\n",
    " 'C=CC(=O)NC(C(=O)NCC1=C(F)C=CC=C1Cl)C1=CC(OC2=CC=CC=C2)=CC=C1',\n",
    " 'C=CC(=O)NC(C(=O)NC(C)C1=CC2=C(C=C1)OCO2)C1CCCC1',\n",
    " 'C=CC(=O)NC(C(=O)NCC1=C(F)C=CC=C1Cl)C1=CC=C(C(C)C)C=C1',\n",
    " 'C=CC(=O)NC(C(=O)NC1=CC=C(OC2=CC=CC=C2)C=C1)C1=CC(OC)=CC=C1',\n",
    " 'C=CC(=O)NC(C(=O)NCC1=C(F)C=CC=C1Cl)C1=C(Cl)C=CC=C1',\n",
    " 'C=CC(=O)NC(C(=O)NCC1=CC=CC(OC)=C1OC)C1=C(Cl)C=CC(F)=C1',\n",
    " 'C=CC(=O)NC(C(=O)NCC1=C(F)C=CC=C1Cl)C1=C(C(F)(F)F)C=CC=C1']"
   ]
  },
  {
   "cell_type": "code",
   "execution_count": 4,
   "metadata": {},
   "outputs": [
    {
     "data": {
      "text/plain": [
       "array([0, 1, 0, ..., 0, 0, 0], dtype=uint8)"
      ]
     },
     "execution_count": 4,
     "metadata": {},
     "output_type": "execute_result"
    }
   ],
   "source": [
    "dm.to_fp(smile_list[0])"
   ]
  },
  {
   "cell_type": "code",
   "execution_count": null,
   "metadata": {},
   "outputs": [],
   "source": []
  }
 ],
 "metadata": {
  "kernelspec": {
   "display_name": "cheminf_3_11",
   "language": "python",
   "name": "python3"
  },
  "language_info": {
   "codemirror_mode": {
    "name": "ipython",
    "version": 3
   },
   "file_extension": ".py",
   "mimetype": "text/x-python",
   "name": "python",
   "nbconvert_exporter": "python",
   "pygments_lexer": "ipython3",
   "version": "3.11.8"
  }
 },
 "nbformat": 4,
 "nbformat_minor": 2
}
